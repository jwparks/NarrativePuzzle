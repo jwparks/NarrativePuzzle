{
 "cells": [
  {
   "cell_type": "code",
   "execution_count": 1,
   "id": "initial_id",
   "metadata": {
    "collapsed": true,
    "ExecuteTime": {
     "end_time": "2024-02-16T00:57:52.686529607Z",
     "start_time": "2024-02-16T00:57:52.006746402Z"
    }
   },
   "outputs": [],
   "source": [
    "import numpy as np\n",
    "import matplotlib.pyplot as plt\n",
    "plt.style.use('default')\n",
    "\n",
    "import seaborn as sns\n",
    "from scipy.stats import entropy, zscore,  pearsonr,spearmanr, linregress\n",
    "import scipy.spatial.distance as scist\n",
    "import csv\n",
    "import konlpy\n",
    "nlp_tagger = konlpy.tag.Okt()\n",
    "\n",
    "from sklearn.feature_extraction.text import CountVectorizer\n",
    "from sklearn.decomposition import LatentDirichletAllocation\n",
    "\n",
    "import pandas as pd\n",
    "\n",
    "subjects =  ['sub-EZ9NM','sub-TV7EF','sub-WLC4O','sub-3L109','sub-3UYSS','sub-JVPPA','sub-EDOP8',\n",
    "             'sub-TIJD1','sub-AYDLR','sub-98UT7','sub-4G9A5','sub-YJBI8','sub-FG8PD','sub-BBN4K',\n",
    "             'sub-F61IR','sub-M1ZRL','sub-NZJZN','sub-XZ9SS','sub-L05R3','sub-ZOVPY','sub-6PEOF',\n",
    "             'sub-G6RPG','sub-TPNCU','sub-9ADGJ','sub-27IXQ','sub-NDX5S','sub-OE7EZ','sub-28E84',\n",
    "             'sub-ENN9N','sub-28OBV','sub-8WJAP','sub-SPHBN','sub-WP8SX','sub-BG4CW','sub-AVQEZ',\n",
    "             'sub-YLWD1','sub-0A4MV','sub-8PIML','sub-4T7NM','sub-X5RE0','sub-RUQON','sub-JVT46',\n",
    "             'sub-RTFX9','sub-OWWAF','sub-IC2KG','sub-S3I4J','sub-XFQA1','sub-UKF5L','sub-Z0MJJ',\n",
    "             'sub-9HMVR','sub-DBQ8H','sub-NAD3W','sub-KH33B','sub-JASQ6','sub-T6FHZ','sub-PQ8JD',\n",
    "             'sub-NOVID','sub-XAKBX','sub-JVSIQ','sub-D1FKN','sub-R3JA3','sub-GPMCX','sub-H8QL5',\n",
    "             'sub-6HW3V','sub-WF939']\n",
    "\n",
    "event_segmentation = pd.read_csv('../utils/movie_event_segmentation.csv')\n",
    "\n",
    "n_events = len(event_segmentation)\n",
    "event_times = []\n",
    "for event in range(n_events):\n",
    "    event_times.append(np.arange(event_segmentation['on time'][event], event_segmentation['off time'][event], 2))\n",
    "\n",
    "event_dict = {}\n",
    "for event in range(n_events):\n",
    "    for time in event_times[event]:\n",
    "        event_dict[time] = event\n",
    "\n",
    "event_words = {}\n",
    "for event in range(n_events):\n",
    "    event_words[event] = []\n",
    "\n",
    "for event in range(n_events):\n",
    "    try:\n",
    "        for word in event_segmentation['dictionary'][event].split():\n",
    "            event_words[event].append(word)\n",
    "    except:\n",
    "        pass\n",
    "\n",
    "movie_user_dictionary = pd.read_csv('../utils/movie_user_dictionary.csv')\n",
    "user_dictionary = {}\n",
    "before_words = []\n",
    "for i in range(len(movie_user_dictionary)):\n",
    "    before_word = movie_user_dictionary['before'][i]\n",
    "    after_word = movie_user_dictionary['after'][i]\n",
    "    user_dictionary[before_word] = after_word\n",
    "    before_words.append(before_word)\n"
   ]
  },
  {
   "cell_type": "code",
   "outputs": [
    {
     "name": "stdout",
     "output_type": "stream",
     "text": [
      "sub-001\n"
     ]
    },
    {
     "ename": "FileNotFoundError",
     "evalue": "[Errno 2] No such file or directory: '/DATA/FilmMemory_preprocess/recall_data/sub-001_recall.txt'",
     "output_type": "error",
     "traceback": [
      "\u001B[0;31m---------------------------------------------------------------------------\u001B[0m",
      "\u001B[0;31mFileNotFoundError\u001B[0m                         Traceback (most recent call last)",
      "Cell \u001B[0;32mIn[2], line 55\u001B[0m\n\u001B[1;32m     53\u001B[0m recall_words \u001B[38;5;241m=\u001B[39m []\n\u001B[1;32m     54\u001B[0m recall_sents \u001B[38;5;241m=\u001B[39m []\n\u001B[0;32m---> 55\u001B[0m \u001B[38;5;28;01mwith\u001B[39;00m \u001B[38;5;28;43mopen\u001B[39;49m\u001B[43m(\u001B[49m\u001B[43mmrbean_fname\u001B[49m\u001B[43m,\u001B[49m\u001B[43m \u001B[49m\u001B[38;5;124;43m'\u001B[39;49m\u001B[38;5;124;43mr\u001B[39;49m\u001B[38;5;124;43m'\u001B[39;49m\u001B[43m,\u001B[49m\u001B[43m \u001B[49m\u001B[43mencoding\u001B[49m\u001B[38;5;241;43m=\u001B[39;49m\u001B[38;5;124;43m'\u001B[39;49m\u001B[38;5;124;43mutf-8\u001B[39;49m\u001B[38;5;124;43m'\u001B[39;49m\u001B[43m)\u001B[49m \u001B[38;5;28;01mas\u001B[39;00m file:\n\u001B[1;32m     56\u001B[0m     \u001B[38;5;28;01mfor\u001B[39;00m line \u001B[38;5;129;01min\u001B[39;00m file\u001B[38;5;241m.\u001B[39mreadlines():\n\u001B[1;32m     57\u001B[0m         bow \u001B[38;5;241m=\u001B[39m []\n",
      "File \u001B[0;32m~/anaconda3/envs/NarrativePuzzle/lib/python3.10/site-packages/IPython/core/interactiveshell.py:284\u001B[0m, in \u001B[0;36m_modified_open\u001B[0;34m(file, *args, **kwargs)\u001B[0m\n\u001B[1;32m    277\u001B[0m \u001B[38;5;28;01mif\u001B[39;00m file \u001B[38;5;129;01min\u001B[39;00m {\u001B[38;5;241m0\u001B[39m, \u001B[38;5;241m1\u001B[39m, \u001B[38;5;241m2\u001B[39m}:\n\u001B[1;32m    278\u001B[0m     \u001B[38;5;28;01mraise\u001B[39;00m \u001B[38;5;167;01mValueError\u001B[39;00m(\n\u001B[1;32m    279\u001B[0m         \u001B[38;5;124mf\u001B[39m\u001B[38;5;124m\"\u001B[39m\u001B[38;5;124mIPython won\u001B[39m\u001B[38;5;124m'\u001B[39m\u001B[38;5;124mt let you open fd=\u001B[39m\u001B[38;5;132;01m{\u001B[39;00mfile\u001B[38;5;132;01m}\u001B[39;00m\u001B[38;5;124m by default \u001B[39m\u001B[38;5;124m\"\u001B[39m\n\u001B[1;32m    280\u001B[0m         \u001B[38;5;124m\"\u001B[39m\u001B[38;5;124mas it is likely to crash IPython. If you know what you are doing, \u001B[39m\u001B[38;5;124m\"\u001B[39m\n\u001B[1;32m    281\u001B[0m         \u001B[38;5;124m\"\u001B[39m\u001B[38;5;124myou can use builtins\u001B[39m\u001B[38;5;124m'\u001B[39m\u001B[38;5;124m open.\u001B[39m\u001B[38;5;124m\"\u001B[39m\n\u001B[1;32m    282\u001B[0m     )\n\u001B[0;32m--> 284\u001B[0m \u001B[38;5;28;01mreturn\u001B[39;00m \u001B[43mio_open\u001B[49m\u001B[43m(\u001B[49m\u001B[43mfile\u001B[49m\u001B[43m,\u001B[49m\u001B[43m \u001B[49m\u001B[38;5;241;43m*\u001B[39;49m\u001B[43margs\u001B[49m\u001B[43m,\u001B[49m\u001B[43m \u001B[49m\u001B[38;5;241;43m*\u001B[39;49m\u001B[38;5;241;43m*\u001B[39;49m\u001B[43mkwargs\u001B[49m\u001B[43m)\u001B[49m\n",
      "\u001B[0;31mFileNotFoundError\u001B[0m: [Errno 2] No such file or directory: '/DATA/FilmMemory_preprocess/recall_data/sub-001_recall.txt'"
     ]
    }
   ],
   "source": [
    "movie_annotation = '../utils/movie_korean_annotation.csv'\n",
    "passed_pos = ['Noun', 'Verb']\n",
    "num_cols=4\n",
    "\n",
    "window_size_ref = 0\n",
    "num_topic = 80\n",
    "window_size_recall = 0\n",
    "threshold = 0.3\n",
    "num_iterations = 50\n",
    "\n",
    "ref_words = []\n",
    "with open(movie_annotation, 'r', encoding=\"utf-8\") as csvFile:\n",
    "    reader = csv.reader(csvFile)\n",
    "    for row in reader:\n",
    "        data = []\n",
    "        current_event = event_dict[int(row[0])]\n",
    "        for col in range(num_cols):\n",
    "            for word, pos in nlp_tagger.pos(row[2+col], stem=True):\n",
    "                if pos in passed_pos:\n",
    "                    data.append(word)\n",
    "        ref_words.append(' '.join([word for word in data] + event_words[current_event]))\n",
    "\n",
    "\n",
    "ref_words_ngram = []\n",
    "for i in range(len(ref_words)):\n",
    "    if i < window_size_ref:\n",
    "        ref_words_ngram.append(' '.join(ref_words[0:i + window_size_ref+1]))\n",
    "    else:\n",
    "        ref_words_ngram.append(' '.join(ref_words[i-window_size_ref:i + window_size_ref+1]))\n",
    "mrbean_ref = np.array(ref_words_ngram)\n",
    "\n",
    "amount_recalls = np.zeros((len(subjects), 300))\n",
    "for f, fname in enumerate(subjects):\n",
    "    print(fname)\n",
    "    np.random.seed(0) #for reproducibility\n",
    "    recall_acc_matrix = []\n",
    "    for seed in range(num_iterations):\n",
    "        countvector_model = CountVectorizer().fit(mrbean_ref)\n",
    "        lda_model = LatentDirichletAllocation(n_components=num_topic,\n",
    "                                              learning_method='batch')\n",
    "        lda_model.fit(countvector_model.transform(mrbean_ref))\n",
    "\n",
    "        ref_model = lda_model.transform(countvector_model.transform(mrbean_ref))\n",
    "        ref_pd = np.nansum((1 - scist.cdist(ref_model, ref_model, 'cosine')), axis=1)\n",
    "\n",
    "\n",
    "        mrbean_fname = '/DATA/FilmMemory_preprocess/recall_data/'+fname+'_recall.txt'\n",
    "        recall_words = []\n",
    "        recall_sents = []\n",
    "        with open(mrbean_fname, 'r', encoding='utf-8') as file:\n",
    "            for line in file.readlines():\n",
    "                bow = []\n",
    "                for word, pos in nlp_tagger.pos(line, stem=True):\n",
    "                    if pos in passed_pos:\n",
    "                        if word in before_words:\n",
    "                            bow.append(user_dictionary[word])\n",
    "                            recall_words.append(user_dictionary[word])\n",
    "                        else:\n",
    "                            bow.append(word)\n",
    "                            recall_words.append(word)\n",
    "                recall_sents.append(' '.join([word for word in bow]))\n",
    "\n",
    "        mrbean_recall = []\n",
    "        for i in range(len(recall_sents)):\n",
    "            if i < window_size_recall:\n",
    "                mrbean_recall.append(' '.join(recall_sents[0:i + window_size_recall+1]))\n",
    "            else:\n",
    "                mrbean_recall.append(' '.join(recall_sents[i-window_size_recall:i + window_size_recall+1]))\n",
    "\n",
    "        recall_model = lda_model.transform(countvector_model.transform(mrbean_recall))\n",
    "\n",
    "        recall_acc = (1 - scist.cdist(ref_model, recall_model, 'cosine'))\n",
    "        recall_acc_matrix.append(recall_acc)\n",
    "    amount_recalls[f,:] = np.mean(recall_acc_matrix, axis=0).mean(axis=1)\n",
    "\n",
    "np.save('Figure4_amount_recalls.npy', amount_recalls)"
   ],
   "metadata": {
    "collapsed": false,
    "ExecuteTime": {
     "end_time": "2024-02-16T00:58:03.132376753Z",
     "start_time": "2024-02-16T00:57:53.751184203Z"
    }
   },
   "id": "64ca50850f9e9e1a",
   "execution_count": 2
  },
  {
   "cell_type": "code",
   "outputs": [
    {
     "name": "stdout",
     "output_type": "stream",
     "text": [
      "Ttest_indResult(statistic=-2.236994725359332, pvalue=0.042072321368850335)\n"
     ]
    },
    {
     "data": {
      "text/plain": "<Figure size 450x450 with 1 Axes>",
      "image/png": "[encoded data removed]"
     },
     "metadata": {},
     "output_type": "display_data"
    }
   ],
   "source": [
    "from scipy.stats import sem\n",
    "immediate_color = '#ff7583'\n",
    "immediate_control_color = '#ba535e'\n",
    "delayed_color = '#1E6FAF' #'#004e8c'\n",
    "delayed_control_color = '#3e627e'\n",
    "\n",
    "immediate_stitch = [35, 52, 88, 155, 190, 242, 260]\n",
    "delayed_stitch = [17, 71, 105, 122, 138, 173, 208, 225, 280]\n",
    "amount_recalls = np.load('data/amount_recalls.npy')\n",
    "plt.style.use('default')\n",
    "average_recall = np.mean(zscore(amount_recalls, axis=1), axis=0)\n",
    "immediate_std = []\n",
    "delayed_std = []\n",
    "length = 5\n",
    "for i in immediate_stitch:\n",
    "    immediate_std.append(np.abs(np.mean(average_recall[i:i+length])-np.mean(average_recall[i-length:i])))\n",
    "for i in delayed_stitch:\n",
    "    delayed_std.append(np.abs(np.mean(average_recall[i:i+length])-np.mean(average_recall[i-length:i])))\n",
    "\n",
    "plt.figure(figsize=(1.5,1.5), dpi=300)\n",
    "plt.bar([1,0], [np.mean(immediate_std), np.mean(delayed_std)],\n",
    "        color=[immediate_color, delayed_color], width=0.7,\n",
    "        yerr=[sem(immediate_std),\n",
    "              sem(delayed_std)],\n",
    "        capsize=4)\n",
    "plt.scatter((1)*np.ones(len(immediate_std)), immediate_std, zorder=100, s=10, facecolors='k', alpha=1.0, edgecolors='none')\n",
    "plt.scatter((0)*np.ones(len(delayed_std)), delayed_std, zorder=100, s=10, facecolors='k', alpha=1.0, edgecolors='none')\n",
    "from scipy.stats import ttest_ind\n",
    "plt.xlim(-0.6, 1.6)\n",
    "plt.xticks([0,1], [\"\", \"\"])\n",
    "print(ttest_ind(immediate_std, delayed_std))"
   ],
   "metadata": {
    "collapsed": false,
    "ExecuteTime": {
     "end_time": "2024-03-19T10:26:13.189444537Z",
     "start_time": "2024-03-19T10:26:13.046452451Z"
    }
   },
   "id": "69ece64881bfb233",
   "execution_count": 45
  }
 ],
 "metadata": {
  "kernelspec": {
   "display_name": "Python 3",
   "language": "python",
   "name": "python3"
  },
  "language_info": {
   "codemirror_mode": {
    "name": "ipython",
    "version": 2
   },
   "file_extension": ".py",
   "mimetype": "text/x-python",
   "name": "python",
   "nbconvert_exporter": "python",
   "pygments_lexer": "ipython2",
   "version": "2.7.6"
  }
 },
 "nbformat": 4,
 "nbformat_minor": 5
}
