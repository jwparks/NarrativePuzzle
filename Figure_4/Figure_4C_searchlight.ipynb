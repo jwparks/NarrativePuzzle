{
 "cells": [
  {
   "cell_type": "code",
   "execution_count": 8,
   "metadata": {
    "collapsed": true,
    "ExecuteTime": {
     "end_time": "2023-07-13T05:06:08.181497353Z",
     "start_time": "2023-07-13T04:53:10.173964840Z"
    }
   },
   "outputs": [
    {
     "name": "stdout",
     "output_type": "stream",
     "text": [
      "/home/jwpark/anaconda3/envs/NarrativePuzzle/bin/python3.10\n",
      "sub-001\n",
      "sub-002\n",
      "sub-003\n",
      "sub-004\n",
      "sub-005\n",
      "sub-006\n",
      "sub-013\n",
      "sub-014\n",
      "sub-015\n",
      "sub-016\n",
      "sub-017\n",
      "sub-018\n",
      "sub-019\n",
      "sub-020\n",
      "sub-021\n",
      "sub-022\n",
      "sub-023\n",
      "sub-024\n",
      "sub-025\n",
      "sub-026\n",
      "sub-027\n",
      "sub-028\n",
      "sub-029\n",
      "sub-030\n",
      "sub-031\n",
      "sub-032\n",
      "sub-033\n",
      "sub-034\n",
      "sub-035\n",
      "sub-038\n",
      "sub-039\n",
      "sub-040\n",
      "sub-042\n",
      "sub-043\n",
      "sub-044\n",
      "sub-049\n",
      "sub-050\n",
      "sub-057\n",
      "sub-058\n",
      "sub-059\n",
      "sub-060\n",
      "sub-061\n",
      "sub-062\n",
      "sub-063\n",
      "sub-064\n",
      "sub-072\n",
      "sub-075\n",
      "sub-078\n",
      "sub-082\n",
      "sub-083\n",
      "sub-086\n",
      "sub-087\n",
      "sub-089\n",
      "sub-090\n",
      "sub-092\n",
      "sub-095\n",
      "sub-096\n",
      "sub-099\n",
      "sub-101\n",
      "sub-103\n",
      "sub-105\n",
      "sub-107\n",
      "sub-109\n",
      "sub-111\n",
      "sub-113\n"
     ]
    }
   ],
   "source": [
    "import sys\n",
    "print(sys.executable)\n",
    "\n",
    "import numpy as np\n",
    "from scipy.stats import rankdata, ttest_rel, ttest_1samp\n",
    "from scipy.stats import zscore\n",
    "\n",
    "from matplotlib import pyplot as plt\n",
    "from scipy.stats import linregress\n",
    "import pickle\n",
    "import seaborn as sns\n",
    "\n",
    "import nibabel as nib\n",
    "subjects =  ['sub-EZ9NM','sub-TV7EF','sub-WLC4O','sub-3L109','sub-3UYSS','sub-JVPPA','sub-EDOP8',\n",
    "             'sub-TIJD1','sub-AYDLR','sub-98UT7','sub-4G9A5','sub-YJBI8','sub-FG8PD','sub-BBN4K',\n",
    "             'sub-F61IR','sub-M1ZRL','sub-NZJZN','sub-XZ9SS','sub-L05R3','sub-ZOVPY','sub-6PEOF',\n",
    "             'sub-G6RPG','sub-TPNCU','sub-9ADGJ','sub-27IXQ','sub-NDX5S','sub-OE7EZ','sub-28E84',\n",
    "             'sub-ENN9N','sub-28OBV','sub-8WJAP','sub-SPHBN','sub-WP8SX','sub-BG4CW','sub-AVQEZ',\n",
    "             'sub-YLWD1','sub-0A4MV','sub-8PIML','sub-4T7NM','sub-X5RE0','sub-RUQON','sub-JVT46',\n",
    "             'sub-RTFX9','sub-OWWAF','sub-IC2KG','sub-S3I4J','sub-XFQA1','sub-UKF5L','sub-Z0MJJ',\n",
    "             'sub-9HMVR','sub-DBQ8H','sub-NAD3W','sub-KH33B','sub-JASQ6','sub-T6FHZ','sub-PQ8JD',\n",
    "             'sub-NOVID','sub-XAKBX','sub-JVSIQ','sub-D1FKN','sub-R3JA3','sub-GPMCX','sub-H8QL5',\n",
    "             'sub-6HW3V','sub-WF939']\n",
    "\n",
    "fmri_data = []\n",
    "for i, fname in enumerate(subjects):\n",
    "    print(fname)\n",
    "    path = f'/DATA/FilmMemory_preprocess/mrbean_scrambled/{fname}_scrambled_smoothing_scale.nii.gz'\n",
    "    data = zscore(nib.load(path).get_fdata(), axis=-1)\n",
    "    data = np.nan_to_num(data)\n",
    "    fmri_data.append(data)"
   ]
  },
  {
   "cell_type": "code",
   "execution_count": 2,
   "outputs": [
    {
     "name": "stdout",
     "output_type": "stream",
     "text": [
      "Total number of voxels: 69831.0\n"
     ]
    }
   ],
   "source": [
    "from multiprocessing import Pool\n",
    "from scipy.stats import pearsonr\n",
    "from scipy.spatial.distance import cosine\n",
    "import time\n",
    "\n",
    "content_score = np.load(\"../Figure_3/data/content_score.npy\")\n",
    "ordering_score = np.load(\"../Figure_3/data/ordering_score.npy\")\n",
    "\n",
    "with open('../utils/movie/backward_retrieval_related.pkl', 'rb') as f:\n",
    "    backward_retrieval_related = pickle.load(f)\n",
    "with open('../utils/movie/backward_retrieval_unrelated.pkl', 'rb') as f:\n",
    "    backward_retrieval_unrelated = pickle.load(f)\n",
    "\n",
    "with open('../utils/movie/forward_retrieval_related.pkl', 'rb') as f:\n",
    "    forward_retrieval_related = pickle.load(f)\n",
    "with open('../utils/movie/forward_retrieval_unrelated.pkl', 'rb') as f:\n",
    "    forward_retrieval_unrelated = pickle.load(f)\n",
    "\n",
    "def get_subject_similarity(i):\n",
    "    x = voxel_indices[0][i]\n",
    "    y = voxel_indices[1][i]\n",
    "    z = voxel_indices[2][i]\n",
    "    if np.sum(mni_mask[x-r:x+r+1, y-r:y+r+1, z-r:z+r+1]) > int(((2*r+1)**3)*0.50):\n",
    "        sphere = sub_data[x-r:x+r+1, y-r:y+r+1, z-r:z+r+1, :].reshape(((2*r+1)**3,610)).T  #Time, Vox\n",
    "        sphere = sphere[:, np.any(sphere, axis=0)]\n",
    "\n",
    "        similarity = []\n",
    "        for p, pair in enumerate(backward_retrieval_related):\n",
    "            prev_patterns = sphere[pair[0]+wholebrain_backward_retrieval_offset-wholebrain_backward_retrieval_duration//2:pair[0]+wholebrain_backward_retrieval_offset-wholebrain_backward_retrieval_duration//2+wholebrain_backward_retrieval_duration, :].mean(axis=0)\n",
    "            next_patterns = sphere[pair[1]+offset-duration//2:pair[1]+offset-duration//2+duration, :].mean(axis=0)\n",
    "            similarity.append(1-cosine(prev_patterns, next_patterns))\n",
    "        return np.nanmean(similarity)\n",
    "    else:\n",
    "        return 0\n",
    "\n",
    "wholebrain_backward_retrieval_offset = int(np.mean([13, 15, 15, 15]))\n",
    "wholebrain_backward_retrieval_duration = int(np.mean([9, 9, 9, 13]))\n",
    "offset = -8\n",
    "duration = 6\n",
    "r = 3\n",
    "mni_mask = nib.load('/DATA/FilmMemory_preprocess/supplement/mni_mask.nii').get_fdata()\n",
    "n_voxels = np.sum(mni_mask)\n",
    "print('Total number of voxels:', np.sum(mni_mask))\n",
    "voxel_indices = np.where(mni_mask==1)\n"
   ],
   "metadata": {
    "collapsed": false,
    "ExecuteTime": {
     "end_time": "2023-07-13T02:41:16.489015215Z",
     "start_time": "2023-07-13T02:41:16.199081634Z"
    }
   }
  },
  {
   "cell_type": "code",
   "execution_count": 3,
   "outputs": [
    {
     "name": "stdout",
     "output_type": "stream",
     "text": [
      "Progress:sub-001, ETA:24.589s\n",
      "Progress:sub-002, ETA:24.616s\n",
      "Progress:sub-003, ETA:23.391s\n",
      "Progress:sub-004, ETA:20.667s\n",
      "Progress:sub-005, ETA:24.394s\n",
      "Progress:sub-006, ETA:24.823s\n",
      "Progress:sub-013, ETA:24.806s\n",
      "Progress:sub-014, ETA:24.269s\n",
      "Progress:sub-015, ETA:24.814s\n",
      "Progress:sub-016, ETA:24.794s\n",
      "Progress:sub-017, ETA:24.720s\n",
      "Progress:sub-018, ETA:24.676s\n",
      "Progress:sub-019, ETA:24.864s\n",
      "Progress:sub-020, ETA:20.288s\n",
      "Progress:sub-021, ETA:21.544s\n",
      "Progress:sub-022, ETA:27.203s\n",
      "Progress:sub-023, ETA:21.888s\n",
      "Progress:sub-024, ETA:21.430s\n",
      "Progress:sub-025, ETA:21.285s\n",
      "Progress:sub-026, ETA:21.595s\n",
      "Progress:sub-027, ETA:21.667s\n",
      "Progress:sub-028, ETA:20.149s\n",
      "Progress:sub-029, ETA:21.203s\n",
      "Progress:sub-030, ETA:21.602s\n",
      "Progress:sub-031, ETA:21.610s\n",
      "Progress:sub-032, ETA:21.643s\n",
      "Progress:sub-033, ETA:21.658s\n",
      "Progress:sub-034, ETA:21.660s\n",
      "Progress:sub-035, ETA:21.571s\n",
      "Progress:sub-038, ETA:21.604s\n",
      "Progress:sub-039, ETA:21.801s\n",
      "Progress:sub-040, ETA:21.503s\n",
      "Progress:sub-042, ETA:21.504s\n",
      "Progress:sub-043, ETA:21.782s\n",
      "Progress:sub-044, ETA:20.482s\n",
      "Progress:sub-049, ETA:21.375s\n",
      "Progress:sub-050, ETA:20.497s\n",
      "Progress:sub-057, ETA:20.362s\n",
      "Progress:sub-058, ETA:20.251s\n",
      "Progress:sub-059, ETA:21.625s\n",
      "Progress:sub-060, ETA:20.794s\n",
      "Progress:sub-061, ETA:20.815s\n",
      "Progress:sub-062, ETA:19.838s\n",
      "Progress:sub-063, ETA:19.475s\n",
      "Progress:sub-064, ETA:19.725s\n",
      "Progress:sub-072, ETA:20.335s\n",
      "Progress:sub-075, ETA:19.857s\n",
      "Progress:sub-078, ETA:20.156s\n",
      "Progress:sub-082, ETA:20.818s\n",
      "Progress:sub-083, ETA:20.382s\n",
      "Progress:sub-086, ETA:20.011s\n",
      "Progress:sub-087, ETA:19.964s\n",
      "Progress:sub-089, ETA:19.733s\n",
      "Progress:sub-090, ETA:20.384s\n",
      "Progress:sub-092, ETA:21.184s\n",
      "Progress:sub-095, ETA:20.275s\n",
      "Progress:sub-096, ETA:20.026s\n",
      "Progress:sub-099, ETA:20.439s\n",
      "Progress:sub-101, ETA:20.277s\n",
      "Progress:sub-103, ETA:19.723s\n",
      "Progress:sub-105, ETA:27.799s\n",
      "Progress:sub-107, ETA:21.531s\n",
      "Progress:sub-109, ETA:20.543s\n",
      "Progress:sub-111, ETA:21.110s\n",
      "Progress:sub-113, ETA:21.597s\n"
     ]
    }
   ],
   "source": [
    "time_sta = time.time()\n",
    "voxel_similarities = np.zeros((len(subjects), int(n_voxels)))\n",
    "for s, sub in enumerate(subjects):\n",
    "    sub_data = fmri_data[s]\n",
    "    with Pool() as pool:\n",
    "        voxel_similarity = pool.map(get_subject_similarity, [i for i in range(int(n_voxels))])\n",
    "    voxel_similarities[s,:] = voxel_similarity\n",
    "    time_end = time.time()\n",
    "    print(f'Progress:{sub}, ETA:{(time_end-time_sta):3.3f}s')\n",
    "    time_sta = time_end"
   ],
   "metadata": {
    "collapsed": false,
    "ExecuteTime": {
     "end_time": "2023-07-13T03:04:51.777622987Z",
     "start_time": "2023-07-13T02:41:18.719027978Z"
    }
   }
  },
  {
   "cell_type": "code",
   "execution_count": 5,
   "outputs": [
    {
     "name": "stderr",
     "output_type": "stream",
     "text": [
      "/home/jwpark/anaconda3/envs/NarrativePuzzle/lib/python3.10/site-packages/scipy/stats/_stats_py.py:4424: ConstantInputWarning: An input array is constant; the correlation coefficient is not defined.\n",
      "  warnings.warn(stats.ConstantInputWarning(msg))\n"
     ]
    }
   ],
   "source": [
    "backward_retrieval_corr_r= np.zeros(mni_mask.shape)\n",
    "backward_retrieval_corr_p= np.ones(mni_mask.shape)\n",
    "for i in range(int(n_voxels)):\n",
    "    x = voxel_indices[0][i]\n",
    "    y = voxel_indices[1][i]\n",
    "    z = voxel_indices[2][i]\n",
    "    #if np.sum(mni_mask[x-r:x+r+1, y-r:y+r+1, z-r:z+r+1]) > int(((2*r+1)**3)*0.50):\n",
    "    corr_r, corr_p = pearsonr(voxel_similarities[:,i], ordering_score)\n",
    "    backward_retrieval_corr_r[x,y,z] = corr_r\n",
    "    backward_retrieval_corr_p[x,y,z] = corr_p\n",
    "\n",
    "np.save('data/wholebrain_searchlight_backward_retrieval_corr_r.npy', backward_retrieval_corr_r)\n",
    "np.save('data/wholebrain_searchlight_backward_retrieval_corr_p.npy', backward_retrieval_corr_p)"
   ],
   "metadata": {
    "collapsed": false,
    "ExecuteTime": {
     "end_time": "2023-07-13T03:23:33.702904261Z",
     "start_time": "2023-07-13T03:22:38.689368846Z"
    }
   }
  },
  {
   "cell_type": "code",
   "execution_count": 1,
   "outputs": [
    {
     "ename": "AttributeError",
     "evalue": "'memmap' object has no attribute 'affine'",
     "output_type": "error",
     "traceback": [
      "\u001B[0;31m---------------------------------------------------------------------------\u001B[0m",
      "\u001B[0;31mAttributeError\u001B[0m                            Traceback (most recent call last)",
      "Cell \u001B[0;32mIn[1], line 5\u001B[0m\n\u001B[1;32m      3\u001B[0m end_retrieval_corr_r \u001B[38;5;241m=\u001B[39m np\u001B[38;5;241m.\u001B[39mload(\u001B[38;5;124m'\u001B[39m\u001B[38;5;124mdata/wholebrain_searchlight_end_retrieval_corr_r.npy\u001B[39m\u001B[38;5;124m'\u001B[39m)\n\u001B[1;32m      4\u001B[0m mni_mask \u001B[38;5;241m=\u001B[39m nib\u001B[38;5;241m.\u001B[39mload(\u001B[38;5;124m'\u001B[39m\u001B[38;5;124m/DATA/FilmMemory_preprocess/supplement/mni_mask.nii\u001B[39m\u001B[38;5;124m'\u001B[39m)\u001B[38;5;241m.\u001B[39mget_fdata()\n\u001B[0;32m----> 5\u001B[0m new_img \u001B[38;5;241m=\u001B[39m nib\u001B[38;5;241m.\u001B[39mNifti1Image(end_retrieval_corr_r, \u001B[43mmni_mask\u001B[49m\u001B[38;5;241;43m.\u001B[39;49m\u001B[43maffine\u001B[49m, mni_mask\u001B[38;5;241m.\u001B[39mheader)\n\u001B[1;32m      6\u001B[0m nib\u001B[38;5;241m.\u001B[39msave(new_img, \u001B[38;5;124m'\u001B[39m\u001B[38;5;124mdata/wholebrain_searchlight.nii.gz\u001B[39m\u001B[38;5;124m'\u001B[39m)\n",
      "\u001B[0;31mAttributeError\u001B[0m: 'memmap' object has no attribute 'affine'"
     ]
    }
   ],
   "source": [
    "import numpy as np\n",
    "import nibabel as nib\n",
    "backward_retrieval_corr_r = np.load('data/wholebrain_searchlight_backward_retrieval_corr_r.npy')\n",
    "mni_mask = nib.load('/DATA/FilmMemory_preprocess/supplement/mni_mask.nii').get_fdata()\n",
    "new_img = nib.Nifti1Image(backward_retrieval_corr_r, mni_mask.affine, mni_mask.header)\n",
    "nib.save(new_img, 'data/wholebrain_searchlight.nii.gz')"
   ],
   "metadata": {
    "collapsed": false,
    "ExecuteTime": {
     "end_time": "2023-07-13T04:49:19.090595497Z",
     "start_time": "2023-07-13T04:49:18.501910807Z"
    }
   }
  },
  {
   "cell_type": "code",
   "execution_count": null,
   "outputs": [],
   "source": [],
   "metadata": {
    "collapsed": false
   }
  }
 ],
 "metadata": {
  "kernelspec": {
   "display_name": "Python 3",
   "language": "python",
   "name": "python3"
  },
  "language_info": {
   "codemirror_mode": {
    "name": "ipython",
    "version": 2
   },
   "file_extension": ".py",
   "mimetype": "text/x-python",
   "name": "python",
   "nbconvert_exporter": "python",
   "pygments_lexer": "ipython2",
   "version": "2.7.6"
  }
 },
 "nbformat": 4,
 "nbformat_minor": 0
}
